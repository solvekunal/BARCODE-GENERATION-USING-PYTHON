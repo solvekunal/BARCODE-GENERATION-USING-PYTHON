{
 "cells": [
  {
   "cell_type": "code",
   "execution_count": 1,
   "id": "0dd6fb79-5d0f-4b93-9ad5-6e8c8c1d85b2",
   "metadata": {},
   "outputs": [
    {
     "name": "stdout",
     "output_type": "stream",
     "text": [
      "Collecting python-barcode\n",
      "  Downloading python_barcode-0.15.1-py3-none-any.whl.metadata (2.3 kB)\n",
      "Downloading python_barcode-0.15.1-py3-none-any.whl (212 kB)\n",
      "   ---------------------------------------- 0.0/213.0 kB ? eta -:--:--\n",
      "   ---------------------------------------- 0.0/213.0 kB ? eta -:--:--\n",
      "   - -------------------------------------- 10.2/213.0 kB ? eta -:--:--\n",
      "   ----- --------------------------------- 30.7/213.0 kB 330.3 kB/s eta 0:00:01\n",
      "   ----------- --------------------------- 61.4/213.0 kB 469.7 kB/s eta 0:00:01\n",
      "   --------------------------- ---------- 153.6/213.0 kB 919.0 kB/s eta 0:00:01\n",
      "   -------------------------------------- 213.0/213.0 kB 998.6 kB/s eta 0:00:00\n",
      "Installing collected packages: python-barcode\n",
      "Successfully installed python-barcode-0.15.1\n",
      "Note: you may need to restart the kernel to use updated packages.\n"
     ]
    }
   ],
   "source": [
    "pip install python-barcode"
   ]
  },
  {
   "cell_type": "code",
   "execution_count": 2,
   "id": "7b4882eb-9be6-457e-8a7e-712ce7f13c32",
   "metadata": {},
   "outputs": [],
   "source": [
    "import barcode\n",
    "from barcode.writer import ImageWriter"
   ]
  },
  {
   "cell_type": "code",
   "execution_count": 5,
   "id": "aca44118-326e-4d94-b4f9-6f59616d1231",
   "metadata": {},
   "outputs": [
    {
     "name": "stdout",
     "output_type": "stream",
     "text": [
      "Barcode saved as C:\\Users\\HP\\Pictures\\barcode_image2.png.png\n"
     ]
    }
   ],
   "source": [
    "# Provide the data to be encoded in the barcode\n",
    "data = '123321123'\n",
    "\n",
    "# Create the barcode\n",
    "barcode_class = barcode.get_barcode_class('code128')\n",
    "barcode_obj = barcode_class(data, writer=ImageWriter())\n",
    "\n",
    "# Save the barcode as an image file\n",
    "filename = barcode_obj.save(r'C:\\Users\\HP\\Pictures\\barcode_image2')\n",
    "\n",
    "print(f'Barcode saved as {filename}.png')"
   ]
  }
 ],
 "metadata": {
  "kernelspec": {
   "display_name": "Python 3 (ipykernel)",
   "language": "python",
   "name": "python3"
  },
  "language_info": {
   "codemirror_mode": {
    "name": "ipython",
    "version": 3
   },
   "file_extension": ".py",
   "mimetype": "text/x-python",
   "name": "python",
   "nbconvert_exporter": "python",
   "pygments_lexer": "ipython3",
   "version": "3.12.4"
  }
 },
 "nbformat": 4,
 "nbformat_minor": 5
}
